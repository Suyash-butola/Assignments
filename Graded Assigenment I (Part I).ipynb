{
 "cells": [
  {
   "cell_type": "code",
   "execution_count": 1,
   "id": "f2620779",
   "metadata": {},
   "outputs": [
    {
     "name": "stdout",
     "output_type": "stream",
     "text": [
      "Please enter the radius of the circle.Aaaa\n",
      "Invalid input, please enter a number: 5\n",
      "The area of the circle is  78.5\n"
     ]
    }
   ],
   "source": [
    "isValid = True \n",
    "while isValid:\n",
    "    try:\n",
    "        radius = float(input(\"Please enter the radius of the circle.\"))\n",
    "        print (\"The area of the circle is \", 3.14*radius*radius)\n",
    "        isValid = False\n",
    "    except :\n",
    "        while True :\n",
    "            try :\n",
    "                radius = float(input('Invalid input, please enter a number: '))\n",
    "                print (\"The area of the circle is \", 3.14*radius*radius)\n",
    "                break\n",
    "            \n",
    "            except :\n",
    "                continue\n",
    "        break"
   ]
  },
  {
   "cell_type": "code",
   "execution_count": 2,
   "id": "1cc47130",
   "metadata": {},
   "outputs": [
    {
     "name": "stdout",
     "output_type": "stream",
     "text": [
      "Enter the numbers seperated by comma for first list 1,2,43,4,5,6\n",
      "Enter the numbers seperated by comma for second list 43,8,9,00,5\n",
      "The similar elements are\n",
      "43\n",
      "5\n"
     ]
    }
   ],
   "source": [
    "X = [int(i) for i in input(\"Enter the numbers seperated by comma for first list \"). split(\",\")]\n",
    "Y = [int(i) for i in input(\"Enter the numbers seperated by comma for second list \"). split(\",\")]\n",
    "count = 0\n",
    "for i in X :\n",
    "    if i in Y :\n",
    "        count = count +1  \n",
    "if count > 1 :\n",
    "    print ('The similar elements are')\n",
    "    for i in X :\n",
    "        if i in Y :\n",
    "            print (i)\n",
    "        \n",
    "if count == 1 :\n",
    "    for i in X :\n",
    "        if i in Y :\n",
    "            print ('The similar element is',i)"
   ]
  },
  {
   "cell_type": "code",
   "execution_count": 3,
   "id": "30102a92",
   "metadata": {},
   "outputs": [],
   "source": [
    "def disjoint_check ():\n",
    "    s1 = {5,8,3,6} \n",
    "    s2 = {1,5.7,8.9} \n",
    "    for i in s1:\n",
    "        if i not in s2:\n",
    "            return \"True\""
   ]
  },
  {
   "cell_type": "code",
   "execution_count": 4,
   "id": "c0127411",
   "metadata": {},
   "outputs": [
    {
     "data": {
      "text/plain": [
       "'True'"
      ]
     },
     "execution_count": 4,
     "metadata": {},
     "output_type": "execute_result"
    }
   ],
   "source": [
    "disjoint_check ()"
   ]
  },
  {
   "cell_type": "code",
   "execution_count": 5,
   "id": "68aacba9",
   "metadata": {},
   "outputs": [
    {
     "name": "stdout",
     "output_type": "stream",
     "text": [
      "10 is not a prime number.\n",
      "4 is not a prime number.\n"
     ]
    }
   ],
   "source": [
    "number = [10,4]\n",
    "notprime = False\n",
    "for i in number:\n",
    "    for j in range(2,i):\n",
    "        if i % j == 0:\n",
    "            print (i,\"is not a prime number.\")\n",
    "            notprime = True\n",
    "            break\n",
    "    if notprime == False :\n",
    "        print (i,\"is a prime number.\")"
   ]
  },
  {
   "cell_type": "code",
   "execution_count": 7,
   "id": "d6041794",
   "metadata": {},
   "outputs": [],
   "source": [
    "def encrypt (string , number):\n",
    "    string = string.lower()\n",
    "    estr = ''\n",
    "    for i in string :\n",
    "        if (ord(i) >= 97 and ord(i) <= 122):\n",
    "            values = (ord(i) + number)\n",
    "            if values > 122 :\n",
    "                values = 96+ (values-122)\n",
    "            estr += chr(values)\n",
    "        else :\n",
    "            estr += i\n",
    "    print(estr)"
   ]
  },
  {
   "cell_type": "code",
   "execution_count": 8,
   "id": "36ed6b32",
   "metadata": {},
   "outputs": [
    {
     "name": "stdout",
     "output_type": "stream",
     "text": [
      "khoor zruog!\n"
     ]
    }
   ],
   "source": [
    "encrypt ('hello world!',3)"
   ]
  },
  {
   "cell_type": "code",
   "execution_count": 9,
   "id": "efb4cea9",
   "metadata": {},
   "outputs": [],
   "source": [
    "def decrypt (string , number):\n",
    "    string = string.lower()\n",
    "    estr = ''\n",
    "    for i in string :\n",
    "        if (ord(i) >= 97 and ord(i) <= 122):\n",
    "            values = (ord(i) - number)\n",
    "            if values < 97 :\n",
    "                values = 123 - (97 - values)\n",
    "            estr += chr(values)\n",
    "        else :\n",
    "            estr += i\n",
    "    print(estr)"
   ]
  },
  {
   "cell_type": "code",
   "execution_count": 11,
   "id": "80a57e7f",
   "metadata": {},
   "outputs": [
    {
     "name": "stdout",
     "output_type": "stream",
     "text": [
      "hello world!\n"
     ]
    }
   ],
   "source": [
    "decrypt ('khoor zruog!',3)"
   ]
  },
  {
   "cell_type": "code",
   "execution_count": null,
   "id": "7dc80746",
   "metadata": {},
   "outputs": [],
   "source": []
  },
  {
   "cell_type": "code",
   "execution_count": null,
   "id": "0a46ca72",
   "metadata": {},
   "outputs": [],
   "source": []
  }
 ],
 "metadata": {
  "kernelspec": {
   "display_name": "Python 3 (ipykernel)",
   "language": "python",
   "name": "python3"
  },
  "language_info": {
   "codemirror_mode": {
    "name": "ipython",
    "version": 3
   },
   "file_extension": ".py",
   "mimetype": "text/x-python",
   "name": "python",
   "nbconvert_exporter": "python",
   "pygments_lexer": "ipython3",
   "version": "3.9.7"
  }
 },
 "nbformat": 4,
 "nbformat_minor": 5
}
