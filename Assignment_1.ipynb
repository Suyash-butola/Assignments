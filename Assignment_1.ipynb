{
 "cells": [
  {
   "cell_type": "code",
   "execution_count": 1,
   "id": "984a1ce8",
   "metadata": {},
   "outputs": [
    {
     "ename": "SyntaxError",
     "evalue": "invalid syntax (Temp/ipykernel_880/3593855862.py, line 1)",
     "output_type": "error",
     "traceback": [
      "\u001b[1;36m  File \u001b[1;32m\"C:\\Users\\butolasb\\AppData\\Local\\Temp/ipykernel_880/3593855862.py\"\u001b[1;36m, line \u001b[1;32m1\u001b[0m\n\u001b[1;33m    1. In the below elements which of them are values or an expression? eg:- values can be\u001b[0m\n\u001b[1;37m       ^\u001b[0m\n\u001b[1;31mSyntaxError\u001b[0m\u001b[1;31m:\u001b[0m invalid syntax\n"
     ]
    }
   ],
   "source": [
    "1. In the below elements which of them are values or an expression? eg:- values can be\n",
    "integer or string and expressions will be mathematical operators.\n",
    "\n",
    "* This is an expression. It is a mathematical operator used to multiply numerical values.\n",
    "\n",
    "'hello' This is a value with data type as string as it is enlosed under single quotation marks\n",
    "\n",
    "-87.8 This is a value \n",
    "\n",
    "- This is an expression to subtract numerical values\n",
    "\n",
    "/ This is an expression used to divide numerical values\n",
    "\n",
    "+ This is an expression which is used to add numerical values\n",
    "\n",
    "6 This is a numerical value"
   ]
  },
  {
   "cell_type": "code",
   "execution_count": null,
   "id": "984e9aed",
   "metadata": {},
   "outputs": [],
   "source": [
    "2. What is the difference between string and variable?\n",
    "\n",
    "A string is a value which is a constant, enclosed between single or double quotation marks. \n",
    "It is a constant value which can be stored in a variable. The string can be any value with any number of characters eclosed between quaotations\n",
    "and does not have any rules as such.\n",
    "Eg - \"Pewdiepie123455\"\n",
    "\n",
    "Variables are used in programming to store values/information and are used to perform various functions with \n",
    "the values stored in them. There are specific rules to name a variable and value is stored in them with the help of an\n",
    "equal to (=) sign.\n",
    "\n",
    "Eg - Random_info = \"Pewdiepie123455\"\n",
    "\n",
    "Here Random_info is the name of a variable which has the string \"Pewdiepie123455\" stored in it.\n",
    "\n"
   ]
  },
  {
   "cell_type": "code",
   "execution_count": null,
   "id": "21ec7533",
   "metadata": {},
   "outputs": [],
   "source": [
    "3. Describe three different data types.\n",
    "\n",
    "String : String is a collection of one or more characters put in a single quote, double-quote or triple quote.\n",
    "    \n",
    "Integer : Integer is a data type which contains positive or negative whole numbers.\n",
    "\n",
    "Float – Float is a data type which contacins numerical value which has a decimal point. "
   ]
  },
  {
   "cell_type": "code",
   "execution_count": null,
   "id": "382660da",
   "metadata": {},
   "outputs": [],
   "source": [
    "4. What is an expression made up of? What do all expressions do?\n",
    "\n",
    "An expression is made up of values and operators which are known as operators and operands. \n",
    "Expressions are used to work with the information , manupulate it and produce some outcome."
   ]
  },
  {
   "cell_type": "code",
   "execution_count": null,
   "id": "da999080",
   "metadata": {},
   "outputs": [],
   "source": [
    "5. This assignment statements, like spam = 10. What is the difference between an\n",
    "expression and a statement?\n",
    "\n",
    "Any line of code is a statement in programming which also includes expression. \n",
    "However an expression only contains operators which can be arithmetic, boolean etc and operands"
   ]
  },
  {
   "cell_type": "code",
   "execution_count": null,
   "id": "b581540f",
   "metadata": {},
   "outputs": [],
   "source": [
    "6. After running the following code, what does the variable bacon contain?\n",
    "bacon = 22\n",
    "bacon + 1\n",
    "\n",
    "Bacon contains the value 22"
   ]
  },
  {
   "cell_type": "code",
   "execution_count": null,
   "id": "0e731835",
   "metadata": {},
   "outputs": [],
   "source": [
    "7. What should the values of the following two terms be?\n",
    "'spam' + 'spamspam'\n",
    "spam * 3\n",
    "\n",
    "The values in both the cases will be the same which will be : 'spamspamspam'"
   ]
  },
  {
   "cell_type": "code",
   "execution_count": null,
   "id": "44d300a8",
   "metadata": {},
   "outputs": [],
   "source": [
    "8. Why is eggs a valid variable name while 100 is invalid?\n",
    "\n",
    "eggs is a valid variable name as it starts with a letter and only has letters which is valid as per the \n",
    "rules to name a variable. Also, eggs is not a reserved keyword.\n",
    "\n",
    "100 is invalid variable name as variable can not be a whole number, \n",
    "the first letter of a variable should be either a letter or an underscore."
   ]
  },
  {
   "cell_type": "code",
   "execution_count": null,
   "id": "22bbddab",
   "metadata": {},
   "outputs": [],
   "source": [
    "9. What three functions can be used to get the integer, floating-point number, or string\n",
    "version of a value?\n",
    "\n",
    "The int() , float() , and str( ) functions can be used respectively"
   ]
  },
  {
   "cell_type": "code",
   "execution_count": null,
   "id": "9779b052",
   "metadata": {},
   "outputs": [],
   "source": [
    "10. Why does this expression cause an error? How can you fix it?\n",
    "'I have eaten '+ 99 +'burritos'\n",
    "\n",
    "This is giving error as data type of 99 is integer and therefore is not able to concatenate with a different data type \n",
    "which is string.\n",
    "\n",
    "This can be fixed by type casting which means we can conver the data type of 99 from integer to string \n",
    "so that we can concatenate with the strings\n",
    "\n",
    "'I have eaten '+ str(99) + 'burritos'\n",
    "\n",
    "Since, all values are of string data type therefore, system will not throw any error.\n"
   ]
  }
 ],
 "metadata": {
  "kernelspec": {
   "display_name": "Python 3 (ipykernel)",
   "language": "python",
   "name": "python3"
  },
  "language_info": {
   "codemirror_mode": {
    "name": "ipython",
    "version": 3
   },
   "file_extension": ".py",
   "mimetype": "text/x-python",
   "name": "python",
   "nbconvert_exporter": "python",
   "pygments_lexer": "ipython3",
   "version": "3.9.7"
  }
 },
 "nbformat": 4,
 "nbformat_minor": 5
}
